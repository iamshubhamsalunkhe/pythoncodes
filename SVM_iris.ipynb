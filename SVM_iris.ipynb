{
 "cells": [
  {
   "cell_type": "code",
   "execution_count": 1,
   "metadata": {},
   "outputs": [
    {
     "name": "stderr",
     "output_type": "stream",
     "text": [
      "C:\\Users\\Shubham\\Anaconda3.1\\lib\\importlib\\_bootstrap.py:219: RuntimeWarning: numpy.ufunc size changed, may indicate binary incompatibility. Expected 192 from C header, got 216 from PyObject\n",
      "  return f(*args, **kwds)\n"
     ]
    },
    {
     "name": "stdout",
     "output_type": "stream",
     "text": [
      "Populating the interactive namespace from numpy and matplotlib\n"
     ]
    }
   ],
   "source": [
    "from sklearn import datasets\n",
    "import numpy as np\n",
    "from sklearn.model_selection import train_test_split\n",
    "from sklearn.preprocessing import StandardScaler\n",
    "from sklearn.svm import SVC\n",
    "%pylab inline \n"
   ]
  },
  {
   "cell_type": "code",
   "execution_count": 2,
   "metadata": {},
   "outputs": [
    {
     "name": "stdout",
     "output_type": "stream",
     "text": [
      "[[5.1 3.5 1.4 0.2]\n",
      " [4.9 3.  1.4 0.2]\n",
      " [4.7 3.2 1.3 0.2]\n",
      " [4.6 3.1 1.5 0.2]\n",
      " [5.  3.6 1.4 0.2]]\n",
      "[0 0 0 0 0]\n"
     ]
    }
   ],
   "source": [
    "iris  =  datasets.load_iris()\n",
    "print(iris.data[:5])\n",
    "print(iris.target[:5])\n"
   ]
  },
  {
   "cell_type": "code",
   "execution_count": 3,
   "metadata": {},
   "outputs": [],
   "source": [
    "X = iris.data[:,2:]#petal length and width\n",
    "y = iris.target"
   ]
  },
  {
   "cell_type": "code",
   "execution_count": 4,
   "metadata": {},
   "outputs": [
    {
     "name": "stdout",
     "output_type": "stream",
     "text": [
      "[[1.4 0.2]\n",
      " [1.4 0.2]\n",
      " [1.3 0.2]\n",
      " [1.5 0.2]\n",
      " [1.4 0.2]]\n",
      "[0 0 0 0 0]\n"
     ]
    }
   ],
   "source": [
    "print(X[:5])\n",
    "print(y[:5])"
   ]
  },
  {
   "cell_type": "code",
   "execution_count": 5,
   "metadata": {},
   "outputs": [
    {
     "name": "stdout",
     "output_type": "stream",
     "text": [
      "labels count in y : [50 50 50]\n",
      "labels count in y_train: [35 35 35]\n",
      "labels count in y_test: [15 15 15]\n"
     ]
    }
   ],
   "source": [
    "X_train, X_test , y_train, y_test = train_test_split(X, y , test_size = 0.3, random_state = 1, stratify=  y)\n",
    "\n",
    "print ('labels count in y :',np.bincount(y))\n",
    "print ('labels count in y_train:', np.bincount(y_train))\n",
    "print ('labels count in y_test:', np.bincount(y_test))"
   ]
  },
  {
   "cell_type": "code",
   "execution_count": 6,
   "metadata": {},
   "outputs": [],
   "source": [
    "sc = StandardScaler()\n",
    "sc.fit(X_train)\n",
    "X_train_std = sc.transform(X_train)\n",
    "X_test_std = sc.transform(X_test)"
   ]
  },
  {
   "cell_type": "code",
   "execution_count": 16,
   "metadata": {},
   "outputs": [],
   "source": [
    "from matplotlib.colors import  ListedColormap\n",
    "import matplotlib.pyplot as plt"
   ]
  },
  {
   "cell_type": "code",
   "execution_count": 18,
   "metadata": {},
   "outputs": [],
   "source": [
    "def plot_decision_regions(X, y, classifier, test_idx=None, resolution=0.02):\n",
    "\n",
    "    # setup marker generator and color map\n",
    "    markers = ('s', 'x', 'o', '^', 'v')\n",
    "    colors = ('red', 'blue', 'lightgreen', 'gray', 'cyan')\n",
    "    cmap = ListedColormap(colors[:len(np.unique(y))])\n",
    "\n",
    "    # plot the decision surface\n",
    "    x1_min, x1_max = X[:, 0].min() - 1, X[:, 0].max() + 1\n",
    "    x2_min, x2_max = X[:, 1].min() - 1, X[:, 1].max() + 1\n",
    "    xx1, xx2 = np.meshgrid(np.arange(x1_min, x1_max, resolution),\n",
    "                           np.arange(x2_min, x2_max, resolution))\n",
    "    Z = classifier.predict(np.array([xx1.ravel(), xx2.ravel()]).T)\n",
    "    Z = Z.reshape(xx1.shape)\n",
    "    plt.contourf(xx1, xx2, Z, alpha=0.3, cmap=cmap)\n",
    "    plt.xlim(xx1.min(), xx1.max())\n",
    "    plt.ylim(xx2.min(), xx2.max())\n",
    "\n",
    "    for idx, cl in enumerate(np.unique(y)):\n",
    "        plt.scatter(x=X[y == cl, 0], \n",
    "                    y=X[y == cl, 1],\n",
    "                    alpha=0.8, \n",
    "                    c=colors[idx],\n",
    "                    marker=markers[idx], \n",
    "                    label=cl, \n",
    "                    edgecolor='black')\n",
    "\n",
    "    # highlight test samples\n",
    "    if test_idx:\n",
    "        # plot all samples\n",
    "        X_test, y_test = X[test_idx, :], y[test_idx]\n",
    "\n",
    "        plt.scatter(X_test[:, 0],\n",
    "                    X_test[:, 1],\n",
    "                    c='',\n",
    "                    edgecolor='black',\n",
    "                    alpha=1.0,\n",
    "                    linewidth=1,\n",
    "                    marker='o',\n",
    "                    s=100, \n",
    "                    label='test set')\n",
    "\n",
    "X_combined_std = np.vstack((X_train_std, X_test_std))\n",
    "y_combined = np.hstack((y_train, y_test))"
   ]
  },
  {
   "cell_type": "code",
   "execution_count": 19,
   "metadata": {},
   "outputs": [
    {
     "data": {
      "image/png": "[encoded data removed]",
      "text/plain": [
       "<Figure size 432x288 with 1 Axes>"
      ]
     },
     "metadata": {
      "needs_background": "light"
     },
     "output_type": "display_data"
    }
   ],
   "source": [
    "svm = SVC(kernel = 'linear' , C = 1.0 , random_state = 1)\n",
    "svm.fit(X_train_std, y_train)\n",
    "\n",
    "plot_decision_regions(X_combined_std,\n",
    "                     y_combined,\n",
    "                     classifier = svm,\n",
    "                     test_idx=range(105,150))\n",
    "\n",
    "\n",
    "plt.title('SVM with scikit learn')\n",
    "plt.xlabel('petal length (standardized)')\n",
    "plt.ylabel('petal width (standardized)')\n",
    "plt.legend(loc = 'upper left')\n",
    "plt.tight_layout()\n",
    "plt.show()\n",
    "\n",
    "\n",
    "\n",
    "\n",
    "\n"
   ]
  },
  {
   "cell_type": "code",
   "execution_count": 20,
   "metadata": {},
   "outputs": [
    {
     "name": "stdout",
     "output_type": "stream",
     "text": [
      "[[15  0  0]\n",
      " [ 0 15  0]\n",
      " [ 0  1 14]]\n",
      "0.9777777777777777\n"
     ]
    }
   ],
   "source": [
    "from sklearn.metrics import confusion_matrix , accuracy_score\n",
    "confusionMatrix = confusion_matrix(y_test  , svm.predict(X_test_std))\n",
    "\n",
    "print(confusionMatrix)\n",
    "print(accuracy_score(y_test , svm.predict(X_test_std)))"
   ]
  },
  {
   "cell_type": "code",
   "execution_count": 21,
   "metadata": {},
   "outputs": [],
   "source": [
    "np.random.seed(1)\n",
    "X_xor = np.random.randn(200,2)\n",
    "y_xor = np.logical_xor(X_xor[:, 0]>0,\n",
    "                       X_xor[:, 1]>0)\n",
    "y_xor = np.where(y_xor, 1, -1)"
   ]
  },
  {
   "cell_type": "code",
   "execution_count": 23,
   "metadata": {},
   "outputs": [
    {
     "data": {
      "text/plain": [
       "array([[ 1.62434536e+00, -6.11756414e-01],\n",
       "       [-5.28171752e-01, -1.07296862e+00],\n",
       "       [ 8.65407629e-01, -2.30153870e+00],\n",
       "       [ 1.74481176e+00, -7.61206901e-01],\n",
       "       [ 3.19039096e-01, -2.49370375e-01],\n",
       "       [ 1.46210794e+00, -2.06014071e+00],\n",
       "       [-3.22417204e-01, -3.84054355e-01],\n",
       "       [ 1.13376944e+00, -1.09989127e+00],\n",
       "       [-1.72428208e-01, -8.77858418e-01],\n",
       "       [ 4.22137467e-02,  5.82815214e-01],\n",
       "       [-1.10061918e+00,  1.14472371e+00],\n",
       "       [ 9.01590721e-01,  5.02494339e-01],\n",
       "       [ 9.00855949e-01, -6.83727859e-01],\n",
       "       [-1.22890226e-01, -9.35769434e-01],\n",
       "       [-2.67888080e-01,  5.30355467e-01],\n",
       "       [-6.91660752e-01, -3.96753527e-01],\n",
       "       [-6.87172700e-01, -8.45205641e-01],\n",
       "       [-6.71246131e-01, -1.26645989e-02],\n",
       "       [-1.11731035e+00,  2.34415698e-01],\n",
       "       [ 1.65980218e+00,  7.42044161e-01],\n",
       "       [-1.91835552e-01, -8.87628964e-01],\n",
       "       [-7.47158294e-01,  1.69245460e+00],\n",
       "       [ 5.08077548e-02, -6.36995647e-01],\n",
       "       [ 1.90915485e-01,  2.10025514e+00],\n",
       "       [ 1.20158952e-01,  6.17203110e-01],\n",
       "       [ 3.00170320e-01, -3.52249846e-01],\n",
       "       [-1.14251820e+00, -3.49342722e-01],\n",
       "       [-2.08894233e-01,  5.86623191e-01],\n",
       "       [ 8.38983414e-01,  9.31102081e-01],\n",
       "       [ 2.85587325e-01,  8.85141164e-01],\n",
       "       [-7.54397941e-01,  1.25286816e+00],\n",
       "       [ 5.12929820e-01, -2.98092835e-01],\n",
       "       [ 4.88518147e-01, -7.55717130e-02],\n",
       "       [ 1.13162939e+00,  1.51981682e+00],\n",
       "       [ 2.18557541e+00, -1.39649634e+00],\n",
       "       [-1.44411381e+00, -5.04465863e-01],\n",
       "       [ 1.60037069e-01,  8.76168921e-01],\n",
       "       [ 3.15634947e-01, -2.02220122e+00],\n",
       "       [-3.06204013e-01,  8.27974643e-01],\n",
       "       [ 2.30094735e-01,  7.62011180e-01],\n",
       "       [-2.22328143e-01, -2.00758069e-01],\n",
       "       [ 1.86561391e-01,  4.10051647e-01],\n",
       "       [ 1.98299720e-01,  1.19008646e-01],\n",
       "       [-6.70662286e-01,  3.77563786e-01],\n",
       "       [ 1.21821271e-01,  1.12948391e+00],\n",
       "       [ 1.19891788e+00,  1.85156417e-01],\n",
       "       [-3.75284950e-01, -6.38730407e-01],\n",
       "       [ 4.23494354e-01,  7.73400683e-02],\n",
       "       [-3.43853676e-01,  4.35968568e-02],\n",
       "       [-6.20000844e-01,  6.98032034e-01],\n",
       "       [-4.47128565e-01,  1.22450770e+00],\n",
       "       [ 4.03491642e-01,  5.93578523e-01],\n",
       "       [-1.09491185e+00,  1.69382433e-01],\n",
       "       [ 7.40556451e-01, -9.53700602e-01],\n",
       "       [-2.66218506e-01,  3.26145467e-02],\n",
       "       [-1.37311732e+00,  3.15159392e-01],\n",
       "       [ 8.46160648e-01, -8.59515941e-01],\n",
       "       [ 3.50545979e-01, -1.31228341e+00],\n",
       "       [-3.86955093e-02, -1.61577235e+00],\n",
       "       [ 1.12141771e+00,  4.08900538e-01],\n",
       "       [-2.46169559e-02, -7.75161619e-01],\n",
       "       [ 1.27375593e+00,  1.96710175e+00],\n",
       "       [-1.85798186e+00,  1.23616403e+00],\n",
       "       [ 1.62765075e+00,  3.38011697e-01],\n",
       "       [-1.19926803e+00,  8.63345318e-01],\n",
       "       [-1.80920302e-01, -6.03920628e-01],\n",
       "       [-1.23005814e+00,  5.50537496e-01],\n",
       "       [ 7.92806866e-01, -6.23530730e-01],\n",
       "       [ 5.20576337e-01, -1.14434139e+00],\n",
       "       [ 8.01861032e-01,  4.65672984e-02],\n",
       "       [-1.86569772e-01, -1.01745873e-01],\n",
       "       [ 8.68886157e-01,  7.50411640e-01],\n",
       "       [ 5.29465324e-01,  1.37701210e-01],\n",
       "       [ 7.78211279e-02,  6.18380262e-01],\n",
       "       [ 2.32494559e-01,  6.82551407e-01],\n",
       "       [-3.10116774e-01, -2.43483776e+00],\n",
       "       [ 1.03882460e+00,  2.18697965e+00],\n",
       "       [ 4.41364444e-01, -1.00155233e-01],\n",
       "       [-1.36444744e-01, -1.19054188e-01],\n",
       "       [ 1.74094083e-02, -1.12201873e+00],\n",
       "       [-5.17094458e-01, -9.97026828e-01],\n",
       "       [ 2.48799161e-01, -2.96641152e-01],\n",
       "       [ 4.95211324e-01, -1.74703160e-01],\n",
       "       [ 9.86335188e-01,  2.13533901e-01],\n",
       "       [ 2.19069973e+00, -1.89636092e+00],\n",
       "       [-6.46916688e-01,  9.01486892e-01],\n",
       "       [ 2.52832571e+00, -2.48634778e-01],\n",
       "       [ 4.36689932e-02, -2.26314243e-01],\n",
       "       [ 1.33145711e+00, -2.87307863e-01],\n",
       "       [ 6.80069840e-01, -3.19801599e-01],\n",
       "       [-1.27255876e+00,  3.13547720e-01],\n",
       "       [ 5.03184813e-01,  1.29322588e+00],\n",
       "       [-1.10447026e-01, -6.17362064e-01],\n",
       "       [ 5.62761097e-01,  2.40737092e-01],\n",
       "       [ 2.80665077e-01, -7.31127037e-02],\n",
       "       [ 1.16033857e+00,  3.69492716e-01],\n",
       "       [ 1.90465871e+00,  1.11105670e+00],\n",
       "       [ 6.59049796e-01, -1.62743834e+00],\n",
       "       [ 6.02319280e-01,  4.20282204e-01],\n",
       "       [ 8.10951673e-01,  1.04444209e+00],\n",
       "       [-4.00878192e-01,  8.24005618e-01],\n",
       "       [-5.62305431e-01,  1.95487808e+00],\n",
       "       [-1.33195167e+00, -1.76068856e+00],\n",
       "       [-1.65072127e+00, -8.90555584e-01],\n",
       "       [-1.11911540e+00,  1.95607890e+00],\n",
       "       [-3.26499498e-01, -1.34267579e+00],\n",
       "       [ 1.11438298e+00, -5.86523939e-01],\n",
       "       [-1.23685338e+00,  8.75838928e-01],\n",
       "       [ 6.23362177e-01, -4.34956683e-01],\n",
       "       [ 1.40754000e+00,  1.29101580e-01],\n",
       "       [ 1.61694960e+00,  5.02740882e-01],\n",
       "       [ 1.55880554e+00,  1.09402696e-01],\n",
       "       [-1.21974440e+00,  2.44936865e+00],\n",
       "       [-5.45774168e-01, -1.98837863e-01],\n",
       "       [-7.00398505e-01, -2.03394449e-01],\n",
       "       [ 2.42669441e-01,  2.01830179e-01],\n",
       "       [ 6.61020288e-01,  1.79215821e+00],\n",
       "       [-1.20464572e-01, -1.23312074e+00],\n",
       "       [-1.18231813e+00, -6.65754518e-01],\n",
       "       [-1.67419581e+00,  8.25029824e-01],\n",
       "       [-4.98213564e-01, -3.10984978e-01],\n",
       "       [-1.89148284e-03, -1.39662042e+00],\n",
       "       [-8.61316361e-01,  6.74711526e-01],\n",
       "       [ 6.18539131e-01, -4.43171931e-01],\n",
       "       [ 1.81053491e+00, -1.30572692e+00],\n",
       "       [-3.44987210e-01, -2.30839743e-01],\n",
       "       [-2.79308500e+00,  1.93752881e+00],\n",
       "       [ 3.66332015e-01, -1.04458938e+00],\n",
       "       [ 2.05117344e+00,  5.85662000e-01],\n",
       "       [ 4.29526140e-01, -6.06998398e-01],\n",
       "       [ 1.06222724e-01, -1.52568032e+00],\n",
       "       [ 7.95026094e-01, -3.74438319e-01],\n",
       "       [ 1.34048197e-01,  1.20205486e+00],\n",
       "       [ 2.84748111e-01,  2.62467445e-01],\n",
       "       [ 2.76499305e-01, -7.33271604e-01],\n",
       "       [ 8.36004719e-01,  1.54335911e+00],\n",
       "       [ 7.58805660e-01,  8.84908814e-01],\n",
       "       [-8.77281519e-01, -8.67787223e-01],\n",
       "       [-1.44087602e+00,  1.23225307e+00],\n",
       "       [-2.54179868e-01,  1.39984394e+00],\n",
       "       [-7.81911683e-01, -4.37508983e-01],\n",
       "       [ 9.54250872e-02,  9.21450069e-01],\n",
       "       [ 6.07501958e-02,  2.11124755e-01],\n",
       "       [ 1.65275673e-02,  1.77187720e-01],\n",
       "       [-1.11647002e+00,  8.09271010e-02],\n",
       "       [-1.86578994e-01, -5.68244809e-02],\n",
       "       [ 4.92336556e-01, -6.80678141e-01],\n",
       "       [-8.45080274e-02, -2.97361883e-01],\n",
       "       [ 4.17302005e-01,  7.84770651e-01],\n",
       "       [-9.55425262e-01,  5.85910431e-01],\n",
       "       [ 2.06578332e+00, -1.47115693e+00],\n",
       "       [-8.30171895e-01, -8.80577600e-01],\n",
       "       [-2.79097722e-01,  1.62284909e+00],\n",
       "       [ 1.33526763e-02, -6.94693595e-01],\n",
       "       [ 6.21803504e-01, -5.99804531e-01],\n",
       "       [ 1.12341216e+00,  3.05267040e-01],\n",
       "       [ 1.38877940e+00, -6.61344243e-01],\n",
       "       [ 3.03085711e+00,  8.24584625e-01],\n",
       "       [ 6.54580153e-01, -5.11884476e-02],\n",
       "       [-7.25597119e-01, -8.67768678e-01],\n",
       "       [-1.35977326e-01, -7.97269785e-01],\n",
       "       [ 2.82675712e-01, -8.26097432e-01],\n",
       "       [ 6.21082701e-01,  9.56121704e-01],\n",
       "       [-7.05840507e-01,  1.19268607e+00],\n",
       "       [-2.37941936e-01,  1.15528789e+00],\n",
       "       [ 4.38166347e-01,  1.12232832e+00],\n",
       "       [-9.97019796e-01, -1.06793987e-01],\n",
       "       [ 1.45142926e+00, -6.18036848e-01],\n",
       "       [-2.03720123e+00, -1.94258918e+00],\n",
       "       [-2.50644065e+00, -2.11416392e+00],\n",
       "       [-4.11639163e-01,  1.27852808e+00],\n",
       "       [-4.42229280e-01,  3.23527354e-01],\n",
       "       [-1.09991490e-01,  8.54894544e-03],\n",
       "       [-1.68198840e-01, -1.74180344e-01],\n",
       "       [ 4.61164100e-01, -1.17598267e+00],\n",
       "       [ 1.01012718e+00,  9.20017933e-01],\n",
       "       [-1.95057341e-01,  8.05393424e-01],\n",
       "       [-7.01344426e-01, -5.37223024e-01],\n",
       "       [ 1.56263850e-01, -1.90221025e-01],\n",
       "       [-4.48738033e-01, -6.72448039e-01],\n",
       "       [-5.57494722e-01,  9.39168744e-01],\n",
       "       [-1.94332341e+00,  3.52494364e-01],\n",
       "       [-2.36436952e-01,  7.27813500e-01],\n",
       "       [ 5.15073614e-01, -2.78253447e+00],\n",
       "       [ 5.84646610e-01,  3.24274243e-01],\n",
       "       [ 2.18628366e-02, -4.68673816e-01],\n",
       "       [ 8.53281222e-01, -4.13029310e-01],\n",
       "       [ 1.83471763e+00,  5.64382855e-01],\n",
       "       [ 2.13782807e+00, -7.85533997e-01],\n",
       "       [-1.75592564e+00,  7.14789597e-01],\n",
       "       [ 8.52704062e-01,  3.53600971e-02],\n",
       "       [-1.53879325e+00, -4.47895185e-01],\n",
       "       [ 6.17985534e-01, -1.84176326e-01],\n",
       "       [-1.15985185e-01, -1.75458969e-01],\n",
       "       [-9.33914656e-01, -5.33020326e-01],\n",
       "       [-1.42655542e+00,  1.76795995e+00],\n",
       "       [-4.75372875e-01,  4.77610182e-01],\n",
       "       [-1.02188594e+00,  7.94528240e-01],\n",
       "       [-1.87316098e+00,  9.20615118e-01],\n",
       "       [-3.53679249e-02,  2.11060505e+00]])"
      ]
     },
     "execution_count": 23,
     "metadata": {},
     "output_type": "execute_result"
    }
   ],
   "source": [
    "X_xor"
   ]
  },
  {
   "cell_type": "code",
   "execution_count": 26,
   "metadata": {},
   "outputs": [
    {
     "data": {
      "text/plain": [
       "array([ True, False,  True,  True,  True,  True, False,  True, False,\n",
       "        True, False,  True,  True, False, False, False, False, False,\n",
       "       False,  True, False, False,  True,  True,  True,  True, False,\n",
       "       False,  True,  True, False,  True,  True,  True,  True, False,\n",
       "        True,  True, False,  True, False,  True,  True, False,  True,\n",
       "        True, False,  True, False, False, False,  True, False,  True,\n",
       "       False, False,  True,  True, False,  True, False,  True, False,\n",
       "        True, False, False, False,  True,  True,  True, False,  True,\n",
       "        True,  True,  True, False,  True,  True, False,  True, False,\n",
       "        True,  True,  True,  True, False,  True,  True,  True,  True,\n",
       "       False,  True, False,  True,  True,  True,  True,  True,  True,\n",
       "        True, False, False, False, False, False, False,  True, False,\n",
       "        True,  True,  True,  True, False, False, False,  True,  True,\n",
       "       False, False, False, False, False, False,  True,  True, False,\n",
       "       False,  True,  True,  True,  True,  True,  True,  True,  True,\n",
       "        True,  True, False, False, False, False,  True,  True,  True,\n",
       "       False, False,  True, False,  True, False,  True, False, False,\n",
       "        True,  True,  True,  True,  True,  True, False, False,  True,\n",
       "        True, False, False,  True, False,  True, False, False, False,\n",
       "       False, False, False,  True,  True, False, False,  True, False,\n",
       "       False, False, False,  True,  True,  True,  True,  True,  True,\n",
       "       False,  True, False,  True, False, False, False, False, False,\n",
       "       False, False])"
      ]
     },
     "execution_count": 26,
     "metadata": {},
     "output_type": "execute_result"
    }
   ],
   "source": [
    "X_xor[:, 0]>0"
   ]
  },
  {
   "cell_type": "code",
   "execution_count": 25,
   "metadata": {},
   "outputs": [
    {
     "data": {
      "image/png": "[encoded data removed]",
      "text/plain": [
       "<Figure size 432x288 with 1 Axes>"
      ]
     },
     "metadata": {
      "needs_background": "light"
     },
     "output_type": "display_data"
    }
   ],
   "source": [
    "plt.scatter(X_xor[y_xor == 1 , 0],\n",
    "           X_xor[y_xor == 1 , 1],\n",
    "           c = 'b' , marker = 'x',\n",
    "           label = '1')\n",
    "plt.scatter(X_xor[y_xor == -1 , 0],\n",
    "           X_xor[y_xor == -1 , 1],\n",
    "           c = 'r' , marker = 's',\n",
    "           label  = '-1')\n",
    "\n",
    "plt.title('Generate random data for Non-Linear SVM')\n",
    "\n",
    "\n",
    "plt.xlim([-3,3])\n",
    "plt.ylim([-3,3])\n",
    "plt.legend(loc = 'best')\n",
    "plt.tight_layout()\n",
    "plt.show()\n"
   ]
  },
  {
   "cell_type": "code",
   "execution_count": 29,
   "metadata": {},
   "outputs": [
    {
     "data": {
      "image/png": "[encoded data removed]",
      "text/plain": [
       "<Figure size 432x288 with 1 Axes>"
      ]
     },
     "metadata": {
      "needs_background": "light"
     },
     "output_type": "display_data"
    }
   ],
   "source": [
    "svm = SVC(kernel = 'rbf' , random_state = 1 , gamma = 0.1 , C = 10.0)\n",
    "\n",
    "svm.fit(X_xor , y_xor)\n",
    "plot_decision_regions(X_xor , y_xor ,classifier = svm)\n",
    "plt.legend(loc = 'upper left')\n",
    "plt.tight_layout()\n",
    "plt.title(\"SVM with RBF kernel trick too find higher level hyperplane on non -liner data\")\n",
    "plt.show()\n",
    "\n"
   ]
  },
  {
   "cell_type": "code",
   "execution_count": 32,
   "metadata": {},
   "outputs": [
    {
     "name": "stdout",
     "output_type": "stream",
     "text": [
      "Accuracy Score:\n",
      "0.85\n"
     ]
    }
   ],
   "source": [
    "X_train , X_test , y_train , y_test = train_test_split(X_xor , y_xor , test_size =0.3, random_state = 1)\n",
    "\n",
    "svm = SVC(kernel = 'rbf', random_state = 1 , gamma= 0.2 , C = 1.0)\n",
    "svm.fit(X_train , y_train)\n",
    "\n",
    "y_pred = svm.predict(X_test)\n",
    "print('Accuracy Score:')\n",
    "print(accuracy_score(y_test,y_pred))"
   ]
  },
  {
   "cell_type": "code",
   "execution_count": 37,
   "metadata": {},
   "outputs": [
    {
     "name": "stdout",
     "output_type": "stream",
     "text": [
      "Accuracy Score\n",
      "0.9666666666666667\n",
      "[[32  0]\n",
      " [ 2 26]]\n",
      "Tuned hyperparameter k :{'C': 10, 'gamma': 1}\n",
      "Best score :0.9357142857142857\n"
     ]
    },
    {
     "name": "stderr",
     "output_type": "stream",
     "text": [
      "C:\\Users\\Shubham\\Anaconda3.1\\lib\\site-packages\\sklearn\\model_selection\\_split.py:2053: FutureWarning: You should specify a value for 'cv' instead of relying on the default value. The default value will change from 3 to 5 in version 0.22.\n",
      "  warnings.warn(CV_WARNING, FutureWarning)\n"
     ]
    }
   ],
   "source": [
    "from sklearn.model_selection import GridSearchCV\n",
    "param_grid = {'C' : [0.1,1,10,100] , 'gamma': [1,0.1,0.01,0.001]}\n",
    "\n",
    "grid = GridSearchCV(SVC(),param_grid,refit=True)\n",
    "grid.fit(X_train ,y_train)\n",
    "\n",
    "grid_predictions = grid.predict(X_test)\n",
    "\n",
    "print('Accuracy Score')\n",
    "print(accuracy_score(y_test , grid_predictions))\n",
    "\n",
    "print(confusion_matrix(y_test, grid_predictions))\n",
    "\n",
    "print(\"Tuned hyperparameter k :{}\".format(grid.best_params_))\n",
    "print(\"Best score :{}\".format(grid.best_score_))"
   ]
  },
  {
   "cell_type": "code",
   "execution_count": null,
   "metadata": {},
   "outputs": [],
   "source": []
  },
  {
   "cell_type": "code",
   "execution_count": 33,
   "metadata": {},
   "outputs": [
    {
     "name": "stdout",
     "output_type": "stream",
     "text": [
      "3.7.1 (default, Dec 10 2018, 22:54:23) [MSC v.1915 64 bit (AMD64)]\n"
     ]
    }
   ],
   "source": [
    "print(sys.version)"
   ]
  },
  {
   "cell_type": "code",
   "execution_count": null,
   "metadata": {},
   "outputs": [],
   "source": []
  }
 ],
 "metadata": {
  "kernelspec": {
   "display_name": "Python 3",
   "language": "python",
   "name": "python3"
  },
  "language_info": {
   "codemirror_mode": {
    "name": "ipython",
    "version": 3
   },
   "file_extension": ".py",
   "mimetype": "text/x-python",
   "name": "python",
   "nbconvert_exporter": "python",
   "pygments_lexer": "ipython3",
   "version": "3.7.1"
  }
 },
 "nbformat": 4,
 "nbformat_minor": 2
}
